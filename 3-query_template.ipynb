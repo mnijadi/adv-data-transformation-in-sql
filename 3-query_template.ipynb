{
 "cells": [
  {
   "cell_type": "markdown",
   "id": "428c8527-56cf-4ad6-ac48-0017dbd90f40",
   "metadata": {},
   "source": [
    "# [SETUP] \n",
    "connect to DuckDB"
   ]
  },
  {
   "cell_type": "code",
   "execution_count": 1,
   "id": "9fdaffe6-9914-44a3-b6bf-2bf1fec7b0b3",
   "metadata": {},
   "outputs": [],
   "source": [
    "# Load the extension\n",
    "%load_ext sql"
   ]
  },
  {
   "cell_type": "code",
   "execution_count": 2,
   "id": "350c3383-7830-425e-ad0a-6fa3967ee8a0",
   "metadata": {},
   "outputs": [
    {
     "data": {
      "text/html": [
       "<span style=\"None\">Connecting to &#x27;duckdb:///tpch.db&#x27;</span>"
      ],
      "text/plain": [
       "Connecting to 'duckdb:///tpch.db'"
      ]
     },
     "metadata": {},
     "output_type": "display_data"
    }
   ],
   "source": [
    "# Connect to DuckDB\n",
    "%sql duckdb:///tpch.db"
   ]
  },
  {
   "cell_type": "code",
   "execution_count": 3,
   "id": "7b85cd95-2536-4533-8288-945d3837b4aa",
   "metadata": {},
   "outputs": [],
   "source": [
    "%config SqlMagic.displaylimit = 100"
   ]
  },
  {
   "cell_type": "code",
   "execution_count": 4,
   "id": "028a7f4d-3f4f-4e92-848b-ec1d41c430cc",
   "metadata": {},
   "outputs": [
    {
     "data": {
      "text/html": [
       "<span style=\"None\">Running query in &#x27;duckdb:///tpch.db&#x27;</span>"
      ],
      "text/plain": [
       "Running query in 'duckdb:///tpch.db'"
      ]
     },
     "metadata": {},
     "output_type": "display_data"
    },
    {
     "data": {
      "text/html": [
       "<table>\n",
       "    <thead>\n",
       "        <tr>\n",
       "            <th>table_name</th>\n",
       "        </tr>\n",
       "    </thead>\n",
       "    <tbody>\n",
       "        <tr>\n",
       "            <td>customer</td>\n",
       "        </tr>\n",
       "        <tr>\n",
       "            <td>lineitem</td>\n",
       "        </tr>\n",
       "        <tr>\n",
       "            <td>nation</td>\n",
       "        </tr>\n",
       "        <tr>\n",
       "            <td>orders</td>\n",
       "        </tr>\n",
       "        <tr>\n",
       "            <td>part</td>\n",
       "        </tr>\n",
       "        <tr>\n",
       "            <td>partsupp</td>\n",
       "        </tr>\n",
       "        <tr>\n",
       "            <td>region</td>\n",
       "        </tr>\n",
       "        <tr>\n",
       "            <td>supplier</td>\n",
       "        </tr>\n",
       "    </tbody>\n",
       "</table>"
      ],
      "text/plain": [
       "+------------+\n",
       "| table_name |\n",
       "+------------+\n",
       "|  customer  |\n",
       "|  lineitem  |\n",
       "|   nation   |\n",
       "|   orders   |\n",
       "|    part    |\n",
       "|  partsupp  |\n",
       "|   region   |\n",
       "|  supplier  |\n",
       "+------------+"
      ]
     },
     "execution_count": 4,
     "metadata": {},
     "output_type": "execute_result"
    }
   ],
   "source": [
    "%%sql\n",
    "-- Run a simple show tables\n",
    "SELECT\n",
    "  table_name\n",
    "FROM\n",
    "  information_schema.tables\n",
    "WHERE\n",
    "  table_schema = 'main'"
   ]
  },
  {
   "cell_type": "markdown",
   "id": "8d4e8719-3839-4fb2-bf28-b2de57a97129",
   "metadata": {},
   "source": [
    "## [Exercise] \n",
    "\n",
    "Write a query to remove duplicates from the clickstream data (created as CTE below)\n",
    "\n",
    "**Time limit during live workshop: 5 min**\n",
    "\n",
    "**Hint:**\n",
    "  1. Think about how you can use `row_number` as shown above to remove duplicates."
   ]
  },
  {
   "cell_type": "code",
   "execution_count": 19,
   "id": "f324cc1b-ee9e-402d-8759-767d42230ab0",
   "metadata": {},
   "outputs": [
    {
     "data": {
      "text/html": [
       "<span style=\"None\">Running query in &#x27;duckdb:///tpch.db&#x27;</span>"
      ],
      "text/plain": [
       "Running query in 'duckdb:///tpch.db'"
      ]
     },
     "metadata": {},
     "output_type": "display_data"
    },
    {
     "data": {
      "text/html": [
       "<table>\n",
       "    <thead>\n",
       "        <tr>\n",
       "            <th>user_id</th>\n",
       "            <th>click_time</th>\n",
       "            <th>click_rank</th>\n",
       "        </tr>\n",
       "    </thead>\n",
       "    <tbody>\n",
       "        <tr>\n",
       "            <td>1</td>\n",
       "            <td>2024-07-01 10:00:00</td>\n",
       "            <td>1</td>\n",
       "        </tr>\n",
       "        <tr>\n",
       "            <td>1</td>\n",
       "            <td>2024-07-01 10:05:00</td>\n",
       "            <td>1</td>\n",
       "        </tr>\n",
       "        <tr>\n",
       "            <td>1</td>\n",
       "            <td>2024-07-01 10:10:00</td>\n",
       "            <td>1</td>\n",
       "        </tr>\n",
       "        <tr>\n",
       "            <td>2</td>\n",
       "            <td>2024-07-01 10:15:00</td>\n",
       "            <td>1</td>\n",
       "        </tr>\n",
       "        <tr>\n",
       "            <td>2</td>\n",
       "            <td>2024-07-01 10:20:00</td>\n",
       "            <td>1</td>\n",
       "        </tr>\n",
       "        <tr>\n",
       "            <td>2</td>\n",
       "            <td>2024-07-01 10:25:00</td>\n",
       "            <td>1</td>\n",
       "        </tr>\n",
       "    </tbody>\n",
       "</table>"
      ],
      "text/plain": [
       "+---------+---------------------+------------+\n",
       "| user_id |      click_time     | click_rank |\n",
       "+---------+---------------------+------------+\n",
       "|    1    | 2024-07-01 10:00:00 |     1      |\n",
       "|    1    | 2024-07-01 10:05:00 |     1      |\n",
       "|    1    | 2024-07-01 10:10:00 |     1      |\n",
       "|    2    | 2024-07-01 10:15:00 |     1      |\n",
       "|    2    | 2024-07-01 10:20:00 |     1      |\n",
       "|    2    | 2024-07-01 10:25:00 |     1      |\n",
       "+---------+---------------------+------------+"
      ]
     },
     "execution_count": 19,
     "metadata": {},
     "output_type": "execute_result"
    }
   ],
   "source": [
    "%%sql\n",
    "WITH clickstream AS (\n",
    "    SELECT\n",
    "        1 AS user_id, '2024-07-01 10:00:00' AS click_time UNION ALL\n",
    "    SELECT\n",
    "        1 AS user_id, '2024-07-01 10:05:00' AS click_time UNION ALL\n",
    "    SELECT\n",
    "        1 AS user_id, '2024-07-01 10:10:00' AS click_time UNION ALL\n",
    "    SELECT\n",
    "        1 AS user_id, '2024-07-01 10:10:00' AS click_time UNION ALL\n",
    "    SELECT\n",
    "        1 AS user_id, '2024-07-01 10:10:00' AS click_time UNION ALL\n",
    "    SELECT\n",
    "        1 AS user_id, '2024-07-01 10:10:00' AS click_time UNION ALL\n",
    "    SELECT\n",
    "        2 AS user_id, '2024-07-01 10:15:00' AS click_time UNION ALL\n",
    "    SELECT\n",
    "        2 AS user_id, '2024-07-01 10:20:00' AS click_time UNION ALL\n",
    "    SELECT\n",
    "        2 AS user_id, '2024-07-01 10:20:00' AS click_time UNION ALL\n",
    "    SELECT\n",
    "        2 AS user_id, '2024-07-01 10:20:00' AS click_time UNION ALL\n",
    "    SELECT\n",
    "        2 AS user_id, '2024-07-01 10:20:00' AS click_time UNION ALL\n",
    "    SELECT\n",
    "        2 AS user_id, '2024-07-01 10:25:00' AS click_time\n",
    "),\n",
    "-- your code here\n",
    "ranked_clicks AS (\n",
    "    SELECT\n",
    "        user_id,\n",
    "        click_time,\n",
    "        ROW_NUMBER()\n",
    "        OVER (\n",
    "            PARTITION BY\n",
    "                user_id,\n",
    "                click_time\n",
    "        ) AS click_rank\n",
    "    FROM\n",
    "        clickstream\n",
    ")\n",
    "SELECT\n",
    "    *\n",
    "FROM\n",
    "    ranked_clicks\n",
    "WHERE\n",
    "    click_rank = 1\n",
    "ORDER BY\n",
    "    user_id,\n",
    "    click_time;"
   ]
  },
  {
   "cell_type": "markdown",
   "id": "d32883c5-8452-45f4-a629-70bef9f7d9ff",
   "metadata": {},
   "source": [
    "## [Exercise] \n",
    "\n",
    "Write a query to pivot orders data by orderpriority and show average total price grouped by year\n",
    "    \n",
    "**Time limit during live workshop: 5 min**\n",
    "\n",
    "**Hint**: \n",
    "    1. Use `strftime(o_orderdate, '%Y') AS order_year` to get order_year.\n",
    "\n",
    "`orders` table schema: ![Orders](../../images/orders.png)"
   ]
  },
  {
   "cell_type": "code",
   "execution_count": 27,
   "id": "25b4999a-1747-4670-a9ac-3a0c0a33ff7a",
   "metadata": {},
   "outputs": [
    {
     "data": {
      "text/html": [
       "<span style=\"None\">Running query in &#x27;duckdb:///tpch.db&#x27;</span>"
      ],
      "text/plain": [
       "Running query in 'duckdb:///tpch.db'"
      ]
     },
     "metadata": {},
     "output_type": "display_data"
    },
    {
     "data": {
      "text/html": [
       "<table>\n",
       "    <thead>\n",
       "        <tr>\n",
       "            <th>order_year</th>\n",
       "            <th>urgent_order_avg_price</th>\n",
       "            <th>high_order_avg_price</th>\n",
       "            <th>medium_order_avg_price</th>\n",
       "            <th>not_specified_order_avg_price</th>\n",
       "            <th>low_order_avg_price</th>\n",
       "        </tr>\n",
       "    </thead>\n",
       "    <tbody>\n",
       "        <tr>\n",
       "            <td>1992</td>\n",
       "            <td>150779.6</td>\n",
       "            <td>151588.26</td>\n",
       "            <td>151384.55</td>\n",
       "            <td>150863.81</td>\n",
       "            <td>151271.86</td>\n",
       "        </tr>\n",
       "        <tr>\n",
       "            <td>1995</td>\n",
       "            <td>150920.56</td>\n",
       "            <td>151526.86</td>\n",
       "            <td>151343.54</td>\n",
       "            <td>150597.69</td>\n",
       "            <td>151086.98</td>\n",
       "        </tr>\n",
       "        <tr>\n",
       "            <td>1994</td>\n",
       "            <td>151426.23</td>\n",
       "            <td>152017.45</td>\n",
       "            <td>150287.01</td>\n",
       "            <td>150731.78</td>\n",
       "            <td>151605.29</td>\n",
       "        </tr>\n",
       "        <tr>\n",
       "            <td>1996</td>\n",
       "            <td>151061.18</td>\n",
       "            <td>151774.86</td>\n",
       "            <td>151454.07</td>\n",
       "            <td>151569.38</td>\n",
       "            <td>151042.53</td>\n",
       "        </tr>\n",
       "        <tr>\n",
       "            <td>1997</td>\n",
       "            <td>151030.14</td>\n",
       "            <td>150796.07</td>\n",
       "            <td>151257.83</td>\n",
       "            <td>150211.43</td>\n",
       "            <td>151236.81</td>\n",
       "        </tr>\n",
       "        <tr>\n",
       "            <td>1993</td>\n",
       "            <td>151896.15</td>\n",
       "            <td>151544.17</td>\n",
       "            <td>150977.08</td>\n",
       "            <td>151375.31</td>\n",
       "            <td>151783.54</td>\n",
       "        </tr>\n",
       "        <tr>\n",
       "            <td>1998</td>\n",
       "            <td>151605.58</td>\n",
       "            <td>151681.48</td>\n",
       "            <td>151524.74</td>\n",
       "            <td>149777.83</td>\n",
       "            <td>151734.08</td>\n",
       "        </tr>\n",
       "    </tbody>\n",
       "</table>"
      ],
      "text/plain": [
       "+------------+------------------------+----------------------+------------------------+-------------------------------+---------------------+\n",
       "| order_year | urgent_order_avg_price | high_order_avg_price | medium_order_avg_price | not_specified_order_avg_price | low_order_avg_price |\n",
       "+------------+------------------------+----------------------+------------------------+-------------------------------+---------------------+\n",
       "|    1992    |        150779.6        |      151588.26       |       151384.55        |           150863.81           |      151271.86      |\n",
       "|    1995    |       150920.56        |      151526.86       |       151343.54        |           150597.69           |      151086.98      |\n",
       "|    1994    |       151426.23        |      152017.45       |       150287.01        |           150731.78           |      151605.29      |\n",
       "|    1996    |       151061.18        |      151774.86       |       151454.07        |           151569.38           |      151042.53      |\n",
       "|    1997    |       151030.14        |      150796.07       |       151257.83        |           150211.43           |      151236.81      |\n",
       "|    1993    |       151896.15        |      151544.17       |       150977.08        |           151375.31           |      151783.54      |\n",
       "|    1998    |       151605.58        |      151681.48       |       151524.74        |           149777.83           |      151734.08      |\n",
       "+------------+------------------------+----------------------+------------------------+-------------------------------+---------------------+"
      ]
     },
     "execution_count": 27,
     "metadata": {},
     "output_type": "execute_result"
    }
   ],
   "source": [
    "%%sql\n",
    "-- your query here\n",
    "SELECT\n",
    "    strftime(o_orderdate, '%Y') AS order_year,\n",
    "    ROUND(AVG(CASE\n",
    "                WHEN o_orderpriority = '1-URGENT' THEN o_totalprice\n",
    "                ELSE NULL\n",
    "            END), 2) AS urgent_order_avg_price,\n",
    "    ROUND(AVG(CASE\n",
    "                WHEN o_orderpriority = '2-HIGH' THEN o_totalprice\n",
    "                ELSE NULL\n",
    "            END), 2) AS high_order_avg_price,\n",
    "    ROUND(AVG(CASE\n",
    "                WHEN o_orderpriority = '3-MEDIUM' THEN o_totalprice\n",
    "                ELSE NULL\n",
    "            END), 2) AS medium_order_avg_price,\n",
    "    ROUND(AVG(CASE\n",
    "                WHEN o_orderpriority = '4-NOT SPECIFIED' THEN o_totalprice\n",
    "                ELSE NULL\n",
    "            END), 2) AS not_specified_order_avg_price,\n",
    "    ROUND(AVG(CASE\n",
    "                WHEN o_orderpriority = '5-LOW' THEN o_totalprice\n",
    "                ELSE NULL\n",
    "            END), 2) AS low_order_avg_price\n",
    "FROM\n",
    "    orders\n",
    "GROUP BY\n",
    "    strftime(o_orderdate, '%Y');"
   ]
  }
 ],
 "metadata": {
  "kernelspec": {
   "display_name": "Python 3",
   "language": "python",
   "name": "python3"
  },
  "language_info": {
   "codemirror_mode": {
    "name": "ipython",
    "version": 3
   },
   "file_extension": ".py",
   "mimetype": "text/x-python",
   "name": "python",
   "nbconvert_exporter": "python",
   "pygments_lexer": "ipython3",
   "version": "3.12.1"
  }
 },
 "nbformat": 4,
 "nbformat_minor": 5
}
